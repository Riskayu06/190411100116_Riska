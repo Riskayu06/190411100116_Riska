{
  "cells": [
    {
      "cell_type": "markdown",
      "source": [
        "## CRAWLING"
      ],
      "metadata": {
        "id": "3HgI6jP0PKN9"
      },
      "id": "3HgI6jP0PKN9"
    },
    {
      "cell_type": "code",
      "source": [
        "! pip install scrapy"
      ],
      "metadata": {
        "colab": {
          "base_uri": "https://localhost:8080/"
        },
        "id": "ZtIBFyywPaXi",
        "outputId": "13ee1409-1aac-407f-b793-cacb43465948"
      },
      "id": "ZtIBFyywPaXi",
      "execution_count": 1,
      "outputs": [
        {
          "output_type": "stream",
          "name": "stdout",
          "text": [
            "Looking in indexes: https://pypi.org/simple, https://us-python.pkg.dev/colab-wheels/public/simple/\n",
            "Collecting scrapy\n",
            "  Downloading Scrapy-2.6.1-py2.py3-none-any.whl (264 kB)\n",
            "\u001b[K     |████████████████████████████████| 264 kB 5.1 MB/s \n",
            "\u001b[?25hRequirement already satisfied: lxml>=3.5.0 in /usr/local/lib/python3.7/dist-packages (from scrapy) (4.2.6)\n",
            "Collecting PyDispatcher>=2.0.5\n",
            "  Downloading PyDispatcher-2.0.5.zip (47 kB)\n",
            "\u001b[K     |████████████████████████████████| 47 kB 4.4 MB/s \n",
            "\u001b[?25hCollecting itemadapter>=0.1.0\n",
            "  Downloading itemadapter-0.6.0-py3-none-any.whl (10 kB)\n",
            "Collecting itemloaders>=1.0.1\n",
            "  Downloading itemloaders-1.0.4-py3-none-any.whl (11 kB)\n",
            "Collecting cryptography>=2.0\n",
            "  Downloading cryptography-37.0.2-cp36-abi3-manylinux_2_24_x86_64.whl (4.0 MB)\n",
            "\u001b[K     |████████████████████████████████| 4.0 MB 54.5 MB/s \n",
            "\u001b[?25hCollecting pyOpenSSL>=16.2.0\n",
            "  Downloading pyOpenSSL-22.0.0-py2.py3-none-any.whl (55 kB)\n",
            "\u001b[K     |████████████████████████████████| 55 kB 2.9 MB/s \n",
            "\u001b[?25hCollecting queuelib>=1.4.2\n",
            "  Downloading queuelib-1.6.2-py2.py3-none-any.whl (13 kB)\n",
            "Requirement already satisfied: setuptools in /usr/local/lib/python3.7/dist-packages (from scrapy) (57.4.0)\n",
            "Collecting Twisted>=17.9.0\n",
            "  Downloading Twisted-22.4.0-py3-none-any.whl (3.1 MB)\n",
            "\u001b[K     |████████████████████████████████| 3.1 MB 35.6 MB/s \n",
            "\u001b[?25hCollecting service-identity>=16.0.0\n",
            "  Downloading service_identity-21.1.0-py2.py3-none-any.whl (12 kB)\n",
            "Collecting w3lib>=1.17.0\n",
            "  Downloading w3lib-1.22.0-py2.py3-none-any.whl (20 kB)\n",
            "Collecting zope.interface>=4.1.3\n",
            "  Downloading zope.interface-5.4.0-cp37-cp37m-manylinux2010_x86_64.whl (251 kB)\n",
            "\u001b[K     |████████████████████████████████| 251 kB 64.2 MB/s \n",
            "\u001b[?25hCollecting protego>=0.1.15\n",
            "  Downloading Protego-0.2.1-py2.py3-none-any.whl (8.2 kB)\n",
            "Collecting cssselect>=0.9.1\n",
            "  Downloading cssselect-1.1.0-py2.py3-none-any.whl (16 kB)\n",
            "Collecting parsel>=1.5.0\n",
            "  Downloading parsel-1.6.0-py2.py3-none-any.whl (13 kB)\n",
            "Collecting tldextract\n",
            "  Downloading tldextract-3.3.0-py3-none-any.whl (93 kB)\n",
            "\u001b[K     |████████████████████████████████| 93 kB 1.7 MB/s \n",
            "\u001b[?25hRequirement already satisfied: cffi>=1.12 in /usr/local/lib/python3.7/dist-packages (from cryptography>=2.0->scrapy) (1.15.0)\n",
            "Requirement already satisfied: pycparser in /usr/local/lib/python3.7/dist-packages (from cffi>=1.12->cryptography>=2.0->scrapy) (2.21)\n",
            "Collecting jmespath>=0.9.5\n",
            "  Downloading jmespath-1.0.0-py3-none-any.whl (23 kB)\n",
            "Requirement already satisfied: six>=1.6.0 in /usr/local/lib/python3.7/dist-packages (from parsel>=1.5.0->scrapy) (1.15.0)\n",
            "Requirement already satisfied: pyasn1-modules in /usr/local/lib/python3.7/dist-packages (from service-identity>=16.0.0->scrapy) (0.2.8)\n",
            "Requirement already satisfied: pyasn1 in /usr/local/lib/python3.7/dist-packages (from service-identity>=16.0.0->scrapy) (0.4.8)\n",
            "Requirement already satisfied: attrs>=19.1.0 in /usr/local/lib/python3.7/dist-packages (from service-identity>=16.0.0->scrapy) (21.4.0)\n",
            "Collecting constantly>=15.1\n",
            "  Downloading constantly-15.1.0-py2.py3-none-any.whl (7.9 kB)\n",
            "Collecting Automat>=0.8.0\n",
            "  Downloading Automat-20.2.0-py2.py3-none-any.whl (31 kB)\n",
            "Requirement already satisfied: typing-extensions>=3.6.5 in /usr/local/lib/python3.7/dist-packages (from Twisted>=17.9.0->scrapy) (4.2.0)\n",
            "Collecting incremental>=21.3.0\n",
            "  Downloading incremental-21.3.0-py2.py3-none-any.whl (15 kB)\n",
            "Collecting hyperlink>=17.1.1\n",
            "  Downloading hyperlink-21.0.0-py2.py3-none-any.whl (74 kB)\n",
            "\u001b[K     |████████████████████████████████| 74 kB 3.6 MB/s \n",
            "\u001b[?25hRequirement already satisfied: idna>=2.5 in /usr/local/lib/python3.7/dist-packages (from hyperlink>=17.1.1->Twisted>=17.9.0->scrapy) (2.10)\n",
            "Requirement already satisfied: filelock>=3.0.8 in /usr/local/lib/python3.7/dist-packages (from tldextract->scrapy) (3.7.1)\n",
            "Collecting requests-file>=1.4\n",
            "  Downloading requests_file-1.5.1-py2.py3-none-any.whl (3.7 kB)\n",
            "Requirement already satisfied: requests>=2.1.0 in /usr/local/lib/python3.7/dist-packages (from tldextract->scrapy) (2.23.0)\n",
            "Requirement already satisfied: urllib3!=1.25.0,!=1.25.1,<1.26,>=1.21.1 in /usr/local/lib/python3.7/dist-packages (from requests>=2.1.0->tldextract->scrapy) (1.24.3)\n",
            "Requirement already satisfied: certifi>=2017.4.17 in /usr/local/lib/python3.7/dist-packages (from requests>=2.1.0->tldextract->scrapy) (2022.5.18.1)\n",
            "Requirement already satisfied: chardet<4,>=3.0.2 in /usr/local/lib/python3.7/dist-packages (from requests>=2.1.0->tldextract->scrapy) (3.0.4)\n",
            "Building wheels for collected packages: PyDispatcher\n",
            "  Building wheel for PyDispatcher (setup.py) ... \u001b[?25l\u001b[?25hdone\n",
            "  Created wheel for PyDispatcher: filename=PyDispatcher-2.0.5-py3-none-any.whl size=11516 sha256=b60d8694e7f0a604f37da2564ba45377fcad02cf9f8a0a6b1cc96dec7ccbcc4f\n",
            "  Stored in directory: /root/.cache/pip/wheels/2d/18/21/3c6a732eaa69a339198e08bb63b7da2c45933a3428b29ec454\n",
            "Successfully built PyDispatcher\n",
            "Installing collected packages: w3lib, cssselect, zope.interface, requests-file, parsel, jmespath, itemadapter, incremental, hyperlink, cryptography, constantly, Automat, Twisted, tldextract, service-identity, queuelib, pyOpenSSL, PyDispatcher, protego, itemloaders, scrapy\n",
            "Successfully installed Automat-20.2.0 PyDispatcher-2.0.5 Twisted-22.4.0 constantly-15.1.0 cryptography-37.0.2 cssselect-1.1.0 hyperlink-21.0.0 incremental-21.3.0 itemadapter-0.6.0 itemloaders-1.0.4 jmespath-1.0.0 parsel-1.6.0 protego-0.2.1 pyOpenSSL-22.0.0 queuelib-1.6.2 requests-file-1.5.1 scrapy-2.6.1 service-identity-21.1.0 tldextract-3.3.0 w3lib-1.22.0 zope.interface-5.4.0\n"
          ]
        }
      ]
    },
    {
      "cell_type": "code",
      "source": [
        "import scrapy\n",
        "\n",
        "class TechnoSpider(scrapy.Spider):\n",
        "    name ='techno'\n",
        "    allowed_domains = ['sindonews.com']\n",
        "    start_urls = ['https://nasional.sindonews.com/']\n",
        "\n",
        "    def parse(self, response):\n",
        "        cont = response.css('.homelist-new')\n",
        "\n",
        "        #collecting data\n",
        "        kat = cont.css('.homelist-channel')\n",
        "        tgl = cont.css('.homelist-date')\n",
        "        judul = cont.css('.homelist-title')\n",
        "        desk = cont.css('.homelist-desc')\n",
        "        c=0\n",
        "        \n",
        "        #combining the results\n",
        "        for review in kat:\n",
        "            yield{'Kategori':''.join(review.xpath('.//text()').extract()),\n",
        "                  'tgl':''.join(tgl.xpath('.//text()').extract()),\n",
        "                  'Judul':''.join(judul.xpath('.//text()').extract()),\n",
        "                  'link':''.join(judul.xpath('.//text()').extract()),\n",
        "                  'deskripsi':''.join(desk.xpath('.//text()').extract()),\n",
        "                  }\n",
        "            c=c+1"
      ],
      "metadata": {
        "id": "KqGTqYI4ONdx"
      },
      "id": "KqGTqYI4ONdx",
      "execution_count": 2,
      "outputs": []
    },
    {
      "cell_type": "code",
      "source": [
        "! pip install pandas\n",
        "! pip install numpy\n",
        "! pip install nltk\n",
        "! pip install swifter\n",
        "! pip install sastrawi\n",
        "! pip install Stemmer\n",
        "! pip install sklearn\n",
        "! pip install matplotlib\n",
        "! pip install seaborn"
      ],
      "metadata": {
        "colab": {
          "base_uri": "https://localhost:8080/",
          "height": 1000
        },
        "id": "DjEnSW6sTSPd",
        "outputId": "cb211110-8fec-4dbf-a100-799045107af5"
      },
      "id": "DjEnSW6sTSPd",
      "execution_count": 5,
      "outputs": [
        {
          "output_type": "stream",
          "name": "stdout",
          "text": [
            "Looking in indexes: https://pypi.org/simple, https://us-python.pkg.dev/colab-wheels/public/simple/\n",
            "Requirement already satisfied: pandas in /usr/local/lib/python3.7/dist-packages (1.3.5)\n",
            "Requirement already satisfied: pytz>=2017.3 in /usr/local/lib/python3.7/dist-packages (from pandas) (2022.1)\n",
            "Requirement already satisfied: numpy>=1.17.3 in /usr/local/lib/python3.7/dist-packages (from pandas) (1.21.6)\n",
            "Requirement already satisfied: python-dateutil>=2.7.3 in /usr/local/lib/python3.7/dist-packages (from pandas) (2.8.2)\n",
            "Requirement already satisfied: six>=1.5 in /usr/local/lib/python3.7/dist-packages (from python-dateutil>=2.7.3->pandas) (1.15.0)\n",
            "Looking in indexes: https://pypi.org/simple, https://us-python.pkg.dev/colab-wheels/public/simple/\n",
            "Requirement already satisfied: numpy in /usr/local/lib/python3.7/dist-packages (1.21.6)\n",
            "Looking in indexes: https://pypi.org/simple, https://us-python.pkg.dev/colab-wheels/public/simple/\n",
            "Requirement already satisfied: nltk in /usr/local/lib/python3.7/dist-packages (3.7)\n",
            "Requirement already satisfied: tqdm in /usr/local/lib/python3.7/dist-packages (from nltk) (4.64.0)\n",
            "Requirement already satisfied: click in /usr/local/lib/python3.7/dist-packages (from nltk) (7.1.2)\n",
            "Requirement already satisfied: joblib in /usr/local/lib/python3.7/dist-packages (from nltk) (1.1.0)\n",
            "Requirement already satisfied: regex>=2021.8.3 in /usr/local/lib/python3.7/dist-packages (from nltk) (2022.6.2)\n",
            "Looking in indexes: https://pypi.org/simple, https://us-python.pkg.dev/colab-wheels/public/simple/\n",
            "Collecting swifter\n",
            "  Downloading swifter-1.1.3.tar.gz (647 kB)\n",
            "\u001b[K     |████████████████████████████████| 647 kB 5.1 MB/s \n",
            "\u001b[?25hRequirement already satisfied: pandas>=1.0.0 in /usr/local/lib/python3.7/dist-packages (from swifter) (1.3.5)\n",
            "Collecting psutil>=5.6.6\n",
            "  Downloading psutil-5.9.1-cp37-cp37m-manylinux_2_12_x86_64.manylinux2010_x86_64.manylinux_2_17_x86_64.manylinux2014_x86_64.whl (281 kB)\n",
            "\u001b[K     |████████████████████████████████| 281 kB 56.0 MB/s \n",
            "\u001b[?25hRequirement already satisfied: dask[dataframe]>=2.10.0 in /usr/local/lib/python3.7/dist-packages (from swifter) (2.12.0)\n",
            "Requirement already satisfied: tqdm>=4.33.0 in /usr/local/lib/python3.7/dist-packages (from swifter) (4.64.0)\n",
            "Requirement already satisfied: ipywidgets>=7.0.0 in /usr/local/lib/python3.7/dist-packages (from swifter) (7.7.0)\n",
            "Requirement already satisfied: cloudpickle>=0.2.2 in /usr/local/lib/python3.7/dist-packages (from swifter) (1.3.0)\n",
            "Requirement already satisfied: parso>0.4.0 in /usr/local/lib/python3.7/dist-packages (from swifter) (0.8.3)\n",
            "Requirement already satisfied: bleach>=3.1.1 in /usr/local/lib/python3.7/dist-packages (from swifter) (5.0.0)\n",
            "Requirement already satisfied: six>=1.9.0 in /usr/local/lib/python3.7/dist-packages (from bleach>=3.1.1->swifter) (1.15.0)\n",
            "Requirement already satisfied: webencodings in /usr/local/lib/python3.7/dist-packages (from bleach>=3.1.1->swifter) (0.5.1)\n",
            "Collecting fsspec>=0.6.0\n",
            "  Downloading fsspec-2022.5.0-py3-none-any.whl (140 kB)\n",
            "\u001b[K     |████████████████████████████████| 140 kB 65.5 MB/s \n",
            "\u001b[?25hRequirement already satisfied: toolz>=0.7.3 in /usr/local/lib/python3.7/dist-packages (from dask[dataframe]>=2.10.0->swifter) (0.11.2)\n",
            "Requirement already satisfied: numpy>=1.13.0 in /usr/local/lib/python3.7/dist-packages (from dask[dataframe]>=2.10.0->swifter) (1.21.6)\n",
            "Collecting partd>=0.3.10\n",
            "  Downloading partd-1.2.0-py3-none-any.whl (19 kB)\n",
            "Requirement already satisfied: widgetsnbextension~=3.6.0 in /usr/local/lib/python3.7/dist-packages (from ipywidgets>=7.0.0->swifter) (3.6.0)\n",
            "Requirement already satisfied: nbformat>=4.2.0 in /usr/local/lib/python3.7/dist-packages (from ipywidgets>=7.0.0->swifter) (5.4.0)\n",
            "Requirement already satisfied: traitlets>=4.3.1 in /usr/local/lib/python3.7/dist-packages (from ipywidgets>=7.0.0->swifter) (5.1.1)\n",
            "Requirement already satisfied: ipython-genutils~=0.2.0 in /usr/local/lib/python3.7/dist-packages (from ipywidgets>=7.0.0->swifter) (0.2.0)\n",
            "Requirement already satisfied: ipython>=4.0.0 in /usr/local/lib/python3.7/dist-packages (from ipywidgets>=7.0.0->swifter) (5.5.0)\n",
            "Requirement already satisfied: jupyterlab-widgets>=1.0.0 in /usr/local/lib/python3.7/dist-packages (from ipywidgets>=7.0.0->swifter) (1.1.0)\n",
            "Requirement already satisfied: ipykernel>=4.5.1 in /usr/local/lib/python3.7/dist-packages (from ipywidgets>=7.0.0->swifter) (4.10.1)\n",
            "Requirement already satisfied: jupyter-client in /usr/local/lib/python3.7/dist-packages (from ipykernel>=4.5.1->ipywidgets>=7.0.0->swifter) (5.3.5)\n",
            "Requirement already satisfied: tornado>=4.0 in /usr/local/lib/python3.7/dist-packages (from ipykernel>=4.5.1->ipywidgets>=7.0.0->swifter) (5.1.1)\n",
            "Requirement already satisfied: prompt-toolkit<2.0.0,>=1.0.4 in /usr/local/lib/python3.7/dist-packages (from ipython>=4.0.0->ipywidgets>=7.0.0->swifter) (1.0.18)\n",
            "Requirement already satisfied: decorator in /usr/local/lib/python3.7/dist-packages (from ipython>=4.0.0->ipywidgets>=7.0.0->swifter) (4.4.2)\n",
            "Requirement already satisfied: pickleshare in /usr/local/lib/python3.7/dist-packages (from ipython>=4.0.0->ipywidgets>=7.0.0->swifter) (0.7.5)\n",
            "Requirement already satisfied: pexpect in /usr/local/lib/python3.7/dist-packages (from ipython>=4.0.0->ipywidgets>=7.0.0->swifter) (4.8.0)\n",
            "Requirement already satisfied: pygments in /usr/local/lib/python3.7/dist-packages (from ipython>=4.0.0->ipywidgets>=7.0.0->swifter) (2.6.1)\n",
            "Requirement already satisfied: simplegeneric>0.8 in /usr/local/lib/python3.7/dist-packages (from ipython>=4.0.0->ipywidgets>=7.0.0->swifter) (0.8.1)\n",
            "Requirement already satisfied: setuptools>=18.5 in /usr/local/lib/python3.7/dist-packages (from ipython>=4.0.0->ipywidgets>=7.0.0->swifter) (57.4.0)\n",
            "Requirement already satisfied: jupyter-core in /usr/local/lib/python3.7/dist-packages (from nbformat>=4.2.0->ipywidgets>=7.0.0->swifter) (4.10.0)\n",
            "Requirement already satisfied: jsonschema>=2.6 in /usr/local/lib/python3.7/dist-packages (from nbformat>=4.2.0->ipywidgets>=7.0.0->swifter) (4.3.3)\n",
            "Requirement already satisfied: fastjsonschema in /usr/local/lib/python3.7/dist-packages (from nbformat>=4.2.0->ipywidgets>=7.0.0->swifter) (2.15.3)\n",
            "Requirement already satisfied: typing-extensions in /usr/local/lib/python3.7/dist-packages (from jsonschema>=2.6->nbformat>=4.2.0->ipywidgets>=7.0.0->swifter) (4.2.0)\n",
            "Requirement already satisfied: pyrsistent!=0.17.0,!=0.17.1,!=0.17.2,>=0.14.0 in /usr/local/lib/python3.7/dist-packages (from jsonschema>=2.6->nbformat>=4.2.0->ipywidgets>=7.0.0->swifter) (0.18.1)\n",
            "Requirement already satisfied: importlib-resources>=1.4.0 in /usr/local/lib/python3.7/dist-packages (from jsonschema>=2.6->nbformat>=4.2.0->ipywidgets>=7.0.0->swifter) (5.7.1)\n",
            "Requirement already satisfied: importlib-metadata in /usr/local/lib/python3.7/dist-packages (from jsonschema>=2.6->nbformat>=4.2.0->ipywidgets>=7.0.0->swifter) (4.11.4)\n",
            "Requirement already satisfied: attrs>=17.4.0 in /usr/local/lib/python3.7/dist-packages (from jsonschema>=2.6->nbformat>=4.2.0->ipywidgets>=7.0.0->swifter) (21.4.0)\n",
            "Requirement already satisfied: zipp>=3.1.0 in /usr/local/lib/python3.7/dist-packages (from importlib-resources>=1.4.0->jsonschema>=2.6->nbformat>=4.2.0->ipywidgets>=7.0.0->swifter) (3.8.0)\n",
            "Requirement already satisfied: pytz>=2017.3 in /usr/local/lib/python3.7/dist-packages (from pandas>=1.0.0->swifter) (2022.1)\n",
            "Requirement already satisfied: python-dateutil>=2.7.3 in /usr/local/lib/python3.7/dist-packages (from pandas>=1.0.0->swifter) (2.8.2)\n",
            "Collecting locket\n",
            "  Downloading locket-1.0.0-py2.py3-none-any.whl (4.4 kB)\n",
            "Requirement already satisfied: wcwidth in /usr/local/lib/python3.7/dist-packages (from prompt-toolkit<2.0.0,>=1.0.4->ipython>=4.0.0->ipywidgets>=7.0.0->swifter) (0.2.5)\n",
            "Requirement already satisfied: notebook>=4.4.1 in /usr/local/lib/python3.7/dist-packages (from widgetsnbextension~=3.6.0->ipywidgets>=7.0.0->swifter) (5.3.1)\n",
            "Requirement already satisfied: nbconvert in /usr/local/lib/python3.7/dist-packages (from notebook>=4.4.1->widgetsnbextension~=3.6.0->ipywidgets>=7.0.0->swifter) (5.6.1)\n",
            "Requirement already satisfied: terminado>=0.8.1 in /usr/local/lib/python3.7/dist-packages (from notebook>=4.4.1->widgetsnbextension~=3.6.0->ipywidgets>=7.0.0->swifter) (0.13.3)\n",
            "Requirement already satisfied: jinja2 in /usr/local/lib/python3.7/dist-packages (from notebook>=4.4.1->widgetsnbextension~=3.6.0->ipywidgets>=7.0.0->swifter) (2.11.3)\n",
            "Requirement already satisfied: Send2Trash in /usr/local/lib/python3.7/dist-packages (from notebook>=4.4.1->widgetsnbextension~=3.6.0->ipywidgets>=7.0.0->swifter) (1.8.0)\n",
            "Requirement already satisfied: pyzmq>=13 in /usr/local/lib/python3.7/dist-packages (from jupyter-client->ipykernel>=4.5.1->ipywidgets>=7.0.0->swifter) (23.1.0)\n",
            "Requirement already satisfied: ptyprocess in /usr/local/lib/python3.7/dist-packages (from terminado>=0.8.1->notebook>=4.4.1->widgetsnbextension~=3.6.0->ipywidgets>=7.0.0->swifter) (0.7.0)\n",
            "Requirement already satisfied: MarkupSafe>=0.23 in /usr/local/lib/python3.7/dist-packages (from jinja2->notebook>=4.4.1->widgetsnbextension~=3.6.0->ipywidgets>=7.0.0->swifter) (2.0.1)\n",
            "Requirement already satisfied: entrypoints>=0.2.2 in /usr/local/lib/python3.7/dist-packages (from nbconvert->notebook>=4.4.1->widgetsnbextension~=3.6.0->ipywidgets>=7.0.0->swifter) (0.4)\n",
            "Requirement already satisfied: pandocfilters>=1.4.1 in /usr/local/lib/python3.7/dist-packages (from nbconvert->notebook>=4.4.1->widgetsnbextension~=3.6.0->ipywidgets>=7.0.0->swifter) (1.5.0)\n",
            "Requirement already satisfied: defusedxml in /usr/local/lib/python3.7/dist-packages (from nbconvert->notebook>=4.4.1->widgetsnbextension~=3.6.0->ipywidgets>=7.0.0->swifter) (0.7.1)\n",
            "Requirement already satisfied: testpath in /usr/local/lib/python3.7/dist-packages (from nbconvert->notebook>=4.4.1->widgetsnbextension~=3.6.0->ipywidgets>=7.0.0->swifter) (0.6.0)\n",
            "Requirement already satisfied: mistune<2,>=0.8.1 in /usr/local/lib/python3.7/dist-packages (from nbconvert->notebook>=4.4.1->widgetsnbextension~=3.6.0->ipywidgets>=7.0.0->swifter) (0.8.4)\n",
            "Building wheels for collected packages: swifter\n",
            "  Building wheel for swifter (setup.py) ... \u001b[?25l\u001b[?25hdone\n",
            "  Created wheel for swifter: filename=swifter-1.1.3-py3-none-any.whl size=13078 sha256=014c8768df4078bfbf4b3290129cade572778613823b0fd7d1b11824215f5b5d\n",
            "  Stored in directory: /root/.cache/pip/wheels/e8/1a/1b/46aa7b0fac16d3ce1bccaac14bfe4fad972642217ae78d8160\n",
            "Successfully built swifter\n",
            "Installing collected packages: locket, partd, fsspec, psutil, swifter\n",
            "  Attempting uninstall: psutil\n",
            "    Found existing installation: psutil 5.4.8\n",
            "    Uninstalling psutil-5.4.8:\n",
            "      Successfully uninstalled psutil-5.4.8\n",
            "Successfully installed fsspec-2022.5.0 locket-1.0.0 partd-1.2.0 psutil-5.9.1 swifter-1.1.3\n"
          ]
        },
        {
          "output_type": "display_data",
          "data": {
            "application/vnd.colab-display-data+json": {
              "pip_warning": {
                "packages": [
                  "psutil"
                ]
              }
            }
          },
          "metadata": {}
        },
        {
          "output_type": "stream",
          "name": "stdout",
          "text": [
            "Looking in indexes: https://pypi.org/simple, https://us-python.pkg.dev/colab-wheels/public/simple/\n",
            "Collecting sastrawi\n",
            "  Downloading Sastrawi-1.0.1-py2.py3-none-any.whl (209 kB)\n",
            "\u001b[K     |████████████████████████████████| 209 kB 3.0 MB/s \n",
            "\u001b[?25hInstalling collected packages: sastrawi\n",
            "Successfully installed sastrawi-1.0.1\n",
            "Looking in indexes: https://pypi.org/simple, https://us-python.pkg.dev/colab-wheels/public/simple/\n",
            "\u001b[31mERROR: Could not find a version that satisfies the requirement Stemmer (from versions: none)\u001b[0m\n",
            "\u001b[31mERROR: No matching distribution found for Stemmer\u001b[0m\n",
            "Looking in indexes: https://pypi.org/simple, https://us-python.pkg.dev/colab-wheels/public/simple/\n",
            "Requirement already satisfied: sklearn in /usr/local/lib/python3.7/dist-packages (0.0)\n",
            "Requirement already satisfied: scikit-learn in /usr/local/lib/python3.7/dist-packages (from sklearn) (1.0.2)\n",
            "Requirement already satisfied: scipy>=1.1.0 in /usr/local/lib/python3.7/dist-packages (from scikit-learn->sklearn) (1.4.1)\n",
            "Requirement already satisfied: joblib>=0.11 in /usr/local/lib/python3.7/dist-packages (from scikit-learn->sklearn) (1.1.0)\n",
            "Requirement already satisfied: numpy>=1.14.6 in /usr/local/lib/python3.7/dist-packages (from scikit-learn->sklearn) (1.21.6)\n",
            "Requirement already satisfied: threadpoolctl>=2.0.0 in /usr/local/lib/python3.7/dist-packages (from scikit-learn->sklearn) (3.1.0)\n",
            "Looking in indexes: https://pypi.org/simple, https://us-python.pkg.dev/colab-wheels/public/simple/\n",
            "Requirement already satisfied: matplotlib in /usr/local/lib/python3.7/dist-packages (3.2.2)\n",
            "Requirement already satisfied: pyparsing!=2.0.4,!=2.1.2,!=2.1.6,>=2.0.1 in /usr/local/lib/python3.7/dist-packages (from matplotlib) (3.0.9)\n",
            "Requirement already satisfied: python-dateutil>=2.1 in /usr/local/lib/python3.7/dist-packages (from matplotlib) (2.8.2)\n",
            "Requirement already satisfied: kiwisolver>=1.0.1 in /usr/local/lib/python3.7/dist-packages (from matplotlib) (1.4.2)\n",
            "Requirement already satisfied: numpy>=1.11 in /usr/local/lib/python3.7/dist-packages (from matplotlib) (1.21.6)\n",
            "Requirement already satisfied: cycler>=0.10 in /usr/local/lib/python3.7/dist-packages (from matplotlib) (0.11.0)\n",
            "Requirement already satisfied: typing-extensions in /usr/local/lib/python3.7/dist-packages (from kiwisolver>=1.0.1->matplotlib) (4.2.0)\n",
            "Requirement already satisfied: six>=1.5 in /usr/local/lib/python3.7/dist-packages (from python-dateutil>=2.1->matplotlib) (1.15.0)\n",
            "Looking in indexes: https://pypi.org/simple, https://us-python.pkg.dev/colab-wheels/public/simple/\n",
            "Requirement already satisfied: seaborn in /usr/local/lib/python3.7/dist-packages (0.11.2)\n",
            "Requirement already satisfied: matplotlib>=2.2 in /usr/local/lib/python3.7/dist-packages (from seaborn) (3.2.2)\n",
            "Requirement already satisfied: numpy>=1.15 in /usr/local/lib/python3.7/dist-packages (from seaborn) (1.21.6)\n",
            "Requirement already satisfied: pandas>=0.23 in /usr/local/lib/python3.7/dist-packages (from seaborn) (1.3.5)\n",
            "Requirement already satisfied: scipy>=1.0 in /usr/local/lib/python3.7/dist-packages (from seaborn) (1.4.1)\n",
            "Requirement already satisfied: cycler>=0.10 in /usr/local/lib/python3.7/dist-packages (from matplotlib>=2.2->seaborn) (0.11.0)\n",
            "Requirement already satisfied: pyparsing!=2.0.4,!=2.1.2,!=2.1.6,>=2.0.1 in /usr/local/lib/python3.7/dist-packages (from matplotlib>=2.2->seaborn) (3.0.9)\n",
            "Requirement already satisfied: kiwisolver>=1.0.1 in /usr/local/lib/python3.7/dist-packages (from matplotlib>=2.2->seaborn) (1.4.2)\n",
            "Requirement already satisfied: python-dateutil>=2.1 in /usr/local/lib/python3.7/dist-packages (from matplotlib>=2.2->seaborn) (2.8.2)\n",
            "Requirement already satisfied: typing-extensions in /usr/local/lib/python3.7/dist-packages (from kiwisolver>=1.0.1->matplotlib>=2.2->seaborn) (4.2.0)\n",
            "Requirement already satisfied: pytz>=2017.3 in /usr/local/lib/python3.7/dist-packages (from pandas>=0.23->seaborn) (2022.1)\n",
            "Requirement already satisfied: six>=1.5 in /usr/local/lib/python3.7/dist-packages (from python-dateutil>=2.1->matplotlib>=2.2->seaborn) (1.15.0)\n"
          ]
        }
      ]
    },
    {
      "cell_type": "code",
      "source": [
        " import nltk\n",
        " nltk.download('stopwords')"
      ],
      "metadata": {
        "colab": {
          "base_uri": "https://localhost:8080/"
        },
        "id": "p4LSWiVrT5F1",
        "outputId": "bf71d75f-4f46-4f49-cdc1-db9ab6a132ba"
      },
      "id": "p4LSWiVrT5F1",
      "execution_count": 8,
      "outputs": [
        {
          "output_type": "stream",
          "name": "stderr",
          "text": [
            "[nltk_data] Downloading package stopwords to /root/nltk_data...\n",
            "[nltk_data]   Unzipping corpora/stopwords.zip.\n"
          ]
        },
        {
          "output_type": "execute_result",
          "data": {
            "text/plain": [
              "True"
            ]
          },
          "metadata": {},
          "execution_count": 8
        }
      ]
    },
    {
      "cell_type": "code",
      "execution_count": 9,
      "id": "4a57f553",
      "metadata": {
        "id": "4a57f553"
      },
      "outputs": [],
      "source": [
        "# data visualisation and manipulation\n",
        "import numpy as np\n",
        "import pandas as pd\n",
        "import matplotlib.pyplot as plt\n",
        "from matplotlib import style\n",
        "import seaborn as sns\n",
        "#configure\n",
        "# sets matplotlib to inline and displays graphs below the corressponding cell.\n",
        "%matplotlib inline  \n",
        "style.use('fivethirtyeight')\n",
        "sns.set(style='whitegrid',color_codes=True)\n",
        "\n",
        "#import nltk\n",
        "import nltk\n",
        "from nltk.corpus import stopwords\n",
        "from nltk.tokenize import word_tokenize,sent_tokenize\n",
        "\n",
        "#preprocessing\n",
        "from nltk.corpus import stopwords  #stopwords\n",
        "from nltk import word_tokenize,sent_tokenize # tokenizing\n",
        "from nltk.stem import PorterStemmer,LancasterStemmer  # using the Porter Stemmer and Lancaster Stemmer and others\n",
        "from nltk.stem.snowball import SnowballStemmer\n",
        "from nltk.stem import WordNetLemmatizer  # lammatizer from WordNet\n",
        "# for named entity recognition (NER)\n",
        "from nltk import ne_chunk\n",
        "\n",
        "# vectorizers for creating the document-term-matrix (DTM)\n",
        "from sklearn.feature_extraction.text import TfidfVectorizer,CountVectorizer\n",
        "\n",
        "#stop-words\n",
        "stop_words=set(nltk.corpus.stopwords.words('english'))"
      ]
    },
    {
      "cell_type": "markdown",
      "id": "075c7574",
      "metadata": {
        "id": "075c7574"
      },
      "source": [
        "# LOADING THE DATASET"
      ]
    },
    {
      "cell_type": "code",
      "execution_count": null,
      "id": "8fa2f3a0",
      "metadata": {
        "id": "8fa2f3a0"
      },
      "outputs": [],
      "source": [
        "df=pd.read_csv('techno.csv')"
      ]
    },
    {
      "cell_type": "code",
      "execution_count": null,
      "id": "e90b915a",
      "metadata": {
        "id": "e90b915a",
        "outputId": "336b74dd-8f36-4e15-f6c6-c80cb950672d"
      },
      "outputs": [
        {
          "data": {
            "text/html": [
              "<div>\n",
              "<style scoped>\n",
              "    .dataframe tbody tr th:only-of-type {\n",
              "        vertical-align: middle;\n",
              "    }\n",
              "\n",
              "    .dataframe tbody tr th {\n",
              "        vertical-align: top;\n",
              "    }\n",
              "\n",
              "    .dataframe thead th {\n",
              "        text-align: right;\n",
              "    }\n",
              "</style>\n",
              "<table border=\"1\" class=\"dataframe\">\n",
              "  <thead>\n",
              "    <tr style=\"text-align: right;\">\n",
              "      <th></th>\n",
              "      <th>nama</th>\n",
              "      <th>tanggal</th>\n",
              "      <th>deskripsi</th>\n",
              "      <th>kategori</th>\n",
              "    </tr>\n",
              "  </thead>\n",
              "  <tbody>\n",
              "    <tr>\n",
              "      <th>0</th>\n",
              "      <td>Banjir Bandang di Kutai Timur Meluas, 15.000 J...</td>\n",
              "      <td>Minggu, 20 Maret 2022 - 21:54 WIB</td>\n",
              "      <td>Ratusan rumah di Sanggata, Kutai Timur, Kalima...</td>\n",
              "      <td>Nusantara</td>\n",
              "    </tr>\n",
              "    <tr>\n",
              "      <th>1</th>\n",
              "      <td>Tak Kebagian Bus, Penonton MotoGP Tertinggal d...</td>\n",
              "      <td>Minggu, 20 Maret 2022 - 21:50 WIB</td>\n",
              "      <td>Para penonton MotoGP di Mandalika yang awalnya...</td>\n",
              "      <td>Nusantara</td>\n",
              "    </tr>\n",
              "    <tr>\n",
              "      <th>2</th>\n",
              "      <td>Pro Kontra Daerah Otonomi Baru, Masyarakat Ada...</td>\n",
              "      <td>Minggu, 20 Maret 2022 - 21:39 WIB</td>\n",
              "      <td>Setelah beberapa wilayah adat La Pago menolak ...</td>\n",
              "      <td>Nusantara</td>\n",
              "    </tr>\n",
              "    <tr>\n",
              "      <th>3</th>\n",
              "      <td>Pulihkan Pariwisata, Denpasar Gratiskan Dokar ...</td>\n",
              "      <td>Minggu, 20 Maret 2022 - 21:35 WIB</td>\n",
              "      <td>Bali terus melakukan upaya untuk memulihkan pa...</td>\n",
              "      <td>Nusantara</td>\n",
              "    </tr>\n",
              "    <tr>\n",
              "      <th>4</th>\n",
              "      <td>Puncak HUT, Bupati Tulang Bawang Winarti Resmi...</td>\n",
              "      <td>Minggu, 20 Maret 2022 - 21:07 WIB</td>\n",
              "      <td>Pada perhelatan Puncak Acara HUT Kabupaten Tul...</td>\n",
              "      <td>Sponsored</td>\n",
              "    </tr>\n",
              "  </tbody>\n",
              "</table>\n",
              "</div>"
            ],
            "text/plain": [
              "                                                nama  \\\n",
              "0  Banjir Bandang di Kutai Timur Meluas, 15.000 J...   \n",
              "1  Tak Kebagian Bus, Penonton MotoGP Tertinggal d...   \n",
              "2  Pro Kontra Daerah Otonomi Baru, Masyarakat Ada...   \n",
              "3  Pulihkan Pariwisata, Denpasar Gratiskan Dokar ...   \n",
              "4  Puncak HUT, Bupati Tulang Bawang Winarti Resmi...   \n",
              "\n",
              "                             tanggal  \\\n",
              "0  Minggu, 20 Maret 2022 - 21:54 WIB   \n",
              "1  Minggu, 20 Maret 2022 - 21:50 WIB   \n",
              "2  Minggu, 20 Maret 2022 - 21:39 WIB   \n",
              "3  Minggu, 20 Maret 2022 - 21:35 WIB   \n",
              "4  Minggu, 20 Maret 2022 - 21:07 WIB   \n",
              "\n",
              "                                           deskripsi   kategori  \n",
              "0  Ratusan rumah di Sanggata, Kutai Timur, Kalima...  Nusantara  \n",
              "1  Para penonton MotoGP di Mandalika yang awalnya...  Nusantara  \n",
              "2  Setelah beberapa wilayah adat La Pago menolak ...  Nusantara  \n",
              "3  Bali terus melakukan upaya untuk memulihkan pa...  Nusantara  \n",
              "4  Pada perhelatan Puncak Acara HUT Kabupaten Tul...  Sponsored  "
            ]
          },
          "execution_count": 3,
          "metadata": {},
          "output_type": "execute_result"
        }
      ],
      "source": [
        "df.head()"
      ]
    },
    {
      "cell_type": "code",
      "execution_count": null,
      "id": "484e9846",
      "metadata": {
        "id": "484e9846"
      },
      "outputs": [],
      "source": [
        "# drop the nama.\n",
        "df.drop(['nama'],axis=1,inplace=True)"
      ]
    },
    {
      "cell_type": "code",
      "execution_count": null,
      "id": "df81736c",
      "metadata": {
        "id": "df81736c"
      },
      "outputs": [],
      "source": [
        "# drop the tanggal.\n",
        "df.drop(['tanggal'],axis=1,inplace=True)"
      ]
    },
    {
      "cell_type": "code",
      "execution_count": null,
      "id": "3dbb316f",
      "metadata": {
        "id": "3dbb316f"
      },
      "outputs": [],
      "source": [
        "# drop the kategori.\n",
        "df.drop(['kategori'],axis=1,inplace=True)"
      ]
    },
    {
      "cell_type": "code",
      "execution_count": null,
      "id": "4205d927",
      "metadata": {
        "id": "4205d927",
        "outputId": "2ff3f123-0b39-4a36-861b-d29177dd2c49"
      },
      "outputs": [
        {
          "data": {
            "text/html": [
              "<div>\n",
              "<style scoped>\n",
              "    .dataframe tbody tr th:only-of-type {\n",
              "        vertical-align: middle;\n",
              "    }\n",
              "\n",
              "    .dataframe tbody tr th {\n",
              "        vertical-align: top;\n",
              "    }\n",
              "\n",
              "    .dataframe thead th {\n",
              "        text-align: right;\n",
              "    }\n",
              "</style>\n",
              "<table border=\"1\" class=\"dataframe\">\n",
              "  <thead>\n",
              "    <tr style=\"text-align: right;\">\n",
              "      <th></th>\n",
              "      <th>deskripsi</th>\n",
              "    </tr>\n",
              "  </thead>\n",
              "  <tbody>\n",
              "    <tr>\n",
              "      <th>0</th>\n",
              "      <td>Ratusan rumah di Sanggata, Kutai Timur, Kalima...</td>\n",
              "    </tr>\n",
              "    <tr>\n",
              "      <th>1</th>\n",
              "      <td>Para penonton MotoGP di Mandalika yang awalnya...</td>\n",
              "    </tr>\n",
              "    <tr>\n",
              "      <th>2</th>\n",
              "      <td>Setelah beberapa wilayah adat La Pago menolak ...</td>\n",
              "    </tr>\n",
              "    <tr>\n",
              "      <th>3</th>\n",
              "      <td>Bali terus melakukan upaya untuk memulihkan pa...</td>\n",
              "    </tr>\n",
              "    <tr>\n",
              "      <th>4</th>\n",
              "      <td>Pada perhelatan Puncak Acara HUT Kabupaten Tul...</td>\n",
              "    </tr>\n",
              "    <tr>\n",
              "      <th>5</th>\n",
              "      <td>Indonesia International Taekwon Do Federation ...</td>\n",
              "    </tr>\n",
              "    <tr>\n",
              "      <th>6</th>\n",
              "      <td>Indonesia International Taekwon Do Federation ...</td>\n",
              "    </tr>\n",
              "    <tr>\n",
              "      <th>7</th>\n",
              "      <td>Kapolres Malang AKBP Ferli Hidayat terus berup...</td>\n",
              "    </tr>\n",
              "    <tr>\n",
              "      <th>8</th>\n",
              "      <td>Seorang remaja perempuan berjilbab yang diduga...</td>\n",
              "    </tr>\n",
              "    <tr>\n",
              "      <th>9</th>\n",
              "      <td>Hujan deras disertai angin kencang mengakibatk...</td>\n",
              "    </tr>\n",
              "  </tbody>\n",
              "</table>\n",
              "</div>"
            ],
            "text/plain": [
              "                                           deskripsi\n",
              "0  Ratusan rumah di Sanggata, Kutai Timur, Kalima...\n",
              "1  Para penonton MotoGP di Mandalika yang awalnya...\n",
              "2  Setelah beberapa wilayah adat La Pago menolak ...\n",
              "3  Bali terus melakukan upaya untuk memulihkan pa...\n",
              "4  Pada perhelatan Puncak Acara HUT Kabupaten Tul...\n",
              "5  Indonesia International Taekwon Do Federation ...\n",
              "6  Indonesia International Taekwon Do Federation ...\n",
              "7  Kapolres Malang AKBP Ferli Hidayat terus berup...\n",
              "8  Seorang remaja perempuan berjilbab yang diduga...\n",
              "9  Hujan deras disertai angin kencang mengakibatk..."
            ]
          },
          "execution_count": 7,
          "metadata": {},
          "output_type": "execute_result"
        }
      ],
      "source": [
        "df.head(10)"
      ]
    },
    {
      "cell_type": "markdown",
      "id": "4903616e",
      "metadata": {
        "id": "4903616e"
      },
      "source": [
        "# DATA CLEANING & PRE-PROCESSING"
      ]
    },
    {
      "cell_type": "code",
      "execution_count": null,
      "id": "0ee5bb9c",
      "metadata": {
        "id": "0ee5bb9c"
      },
      "outputs": [],
      "source": [
        "def clean_text(deskripsi):\n",
        "  le=WordNetLemmatizer()\n",
        "  word_tokens=word_tokenize(deskripsi)\n",
        "  tokens=[le.lemmatize(w) for w in word_tokens if w not in stop_words and len(w)>3]\n",
        "  cleaned_text=\" \".join(tokens)\n",
        "  return cleaned_text"
      ]
    },
    {
      "cell_type": "code",
      "execution_count": null,
      "id": "d1243c8f",
      "metadata": {
        "id": "d1243c8f"
      },
      "outputs": [],
      "source": [
        "# time taking\n",
        "df['deskripsi_text']=df['deskripsi'].apply(clean_text)"
      ]
    },
    {
      "cell_type": "code",
      "execution_count": null,
      "id": "f5b05496",
      "metadata": {
        "id": "f5b05496",
        "outputId": "4b03c393-d660-456b-b532-ac5c46166da9"
      },
      "outputs": [
        {
          "data": {
            "text/html": [
              "<div>\n",
              "<style scoped>\n",
              "    .dataframe tbody tr th:only-of-type {\n",
              "        vertical-align: middle;\n",
              "    }\n",
              "\n",
              "    .dataframe tbody tr th {\n",
              "        vertical-align: top;\n",
              "    }\n",
              "\n",
              "    .dataframe thead th {\n",
              "        text-align: right;\n",
              "    }\n",
              "</style>\n",
              "<table border=\"1\" class=\"dataframe\">\n",
              "  <thead>\n",
              "    <tr style=\"text-align: right;\">\n",
              "      <th></th>\n",
              "      <th>deskripsi</th>\n",
              "      <th>deskripsi_text</th>\n",
              "    </tr>\n",
              "  </thead>\n",
              "  <tbody>\n",
              "    <tr>\n",
              "      <th>0</th>\n",
              "      <td>Ratusan rumah di Sanggata, Kutai Timur, Kalima...</td>\n",
              "      <td>Ratusan rumah Sanggata Kutai Timur Kalimantan ...</td>\n",
              "    </tr>\n",
              "    <tr>\n",
              "      <th>1</th>\n",
              "      <td>Para penonton MotoGP di Mandalika yang awalnya...</td>\n",
              "      <td>Para penonton MotoGP Mandalika yang awalnya ke...</td>\n",
              "    </tr>\n",
              "    <tr>\n",
              "      <th>2</th>\n",
              "      <td>Setelah beberapa wilayah adat La Pago menolak ...</td>\n",
              "      <td>Setelah beberapa wilayah adat Pago menolak kin...</td>\n",
              "    </tr>\n",
              "    <tr>\n",
              "      <th>3</th>\n",
              "      <td>Bali terus melakukan upaya untuk memulihkan pa...</td>\n",
              "      <td>Bali terus melakukan upaya untuk memulihkan pa...</td>\n",
              "    </tr>\n",
              "    <tr>\n",
              "      <th>4</th>\n",
              "      <td>Pada perhelatan Puncak Acara HUT Kabupaten Tul...</td>\n",
              "      <td>Pada perhelatan Puncak Acara Kabupaten Tulang ...</td>\n",
              "    </tr>\n",
              "  </tbody>\n",
              "</table>\n",
              "</div>"
            ],
            "text/plain": [
              "                                           deskripsi  \\\n",
              "0  Ratusan rumah di Sanggata, Kutai Timur, Kalima...   \n",
              "1  Para penonton MotoGP di Mandalika yang awalnya...   \n",
              "2  Setelah beberapa wilayah adat La Pago menolak ...   \n",
              "3  Bali terus melakukan upaya untuk memulihkan pa...   \n",
              "4  Pada perhelatan Puncak Acara HUT Kabupaten Tul...   \n",
              "\n",
              "                                      deskripsi_text  \n",
              "0  Ratusan rumah Sanggata Kutai Timur Kalimantan ...  \n",
              "1  Para penonton MotoGP Mandalika yang awalnya ke...  \n",
              "2  Setelah beberapa wilayah adat Pago menolak kin...  \n",
              "3  Bali terus melakukan upaya untuk memulihkan pa...  \n",
              "4  Pada perhelatan Puncak Acara Kabupaten Tulang ...  "
            ]
          },
          "execution_count": 10,
          "metadata": {},
          "output_type": "execute_result"
        }
      ],
      "source": [
        "df.head()"
      ]
    },
    {
      "cell_type": "code",
      "execution_count": null,
      "id": "1f8e0bd0",
      "metadata": {
        "id": "1f8e0bd0"
      },
      "outputs": [],
      "source": [
        "df.drop(['deskripsi_text'],axis=1,inplace=True)"
      ]
    },
    {
      "cell_type": "code",
      "execution_count": null,
      "id": "e6038c19",
      "metadata": {
        "id": "e6038c19",
        "outputId": "ba84768c-7e5a-4726-a487-b3b6b877860e"
      },
      "outputs": [
        {
          "data": {
            "text/html": [
              "<div>\n",
              "<style scoped>\n",
              "    .dataframe tbody tr th:only-of-type {\n",
              "        vertical-align: middle;\n",
              "    }\n",
              "\n",
              "    .dataframe tbody tr th {\n",
              "        vertical-align: top;\n",
              "    }\n",
              "\n",
              "    .dataframe thead th {\n",
              "        text-align: right;\n",
              "    }\n",
              "</style>\n",
              "<table border=\"1\" class=\"dataframe\">\n",
              "  <thead>\n",
              "    <tr style=\"text-align: right;\">\n",
              "      <th></th>\n",
              "      <th>deskripsi</th>\n",
              "    </tr>\n",
              "  </thead>\n",
              "  <tbody>\n",
              "    <tr>\n",
              "      <th>0</th>\n",
              "      <td>Ratusan rumah di Sanggata, Kutai Timur, Kalima...</td>\n",
              "    </tr>\n",
              "    <tr>\n",
              "      <th>1</th>\n",
              "      <td>Para penonton MotoGP di Mandalika yang awalnya...</td>\n",
              "    </tr>\n",
              "    <tr>\n",
              "      <th>2</th>\n",
              "      <td>Setelah beberapa wilayah adat La Pago menolak ...</td>\n",
              "    </tr>\n",
              "    <tr>\n",
              "      <th>3</th>\n",
              "      <td>Bali terus melakukan upaya untuk memulihkan pa...</td>\n",
              "    </tr>\n",
              "    <tr>\n",
              "      <th>4</th>\n",
              "      <td>Pada perhelatan Puncak Acara HUT Kabupaten Tul...</td>\n",
              "    </tr>\n",
              "  </tbody>\n",
              "</table>\n",
              "</div>"
            ],
            "text/plain": [
              "                                           deskripsi\n",
              "0  Ratusan rumah di Sanggata, Kutai Timur, Kalima...\n",
              "1  Para penonton MotoGP di Mandalika yang awalnya...\n",
              "2  Setelah beberapa wilayah adat La Pago menolak ...\n",
              "3  Bali terus melakukan upaya untuk memulihkan pa...\n",
              "4  Pada perhelatan Puncak Acara HUT Kabupaten Tul..."
            ]
          },
          "execution_count": 12,
          "metadata": {},
          "output_type": "execute_result"
        }
      ],
      "source": [
        "df.head()"
      ]
    },
    {
      "cell_type": "code",
      "execution_count": null,
      "id": "14d25256",
      "metadata": {
        "id": "14d25256",
        "outputId": "31ee0997-db7f-4f8a-a15d-24309f1ba0a2"
      },
      "outputs": [
        {
          "data": {
            "text/plain": [
              "'Ratusan rumah di Sanggata, Kutai Timur, Kalimantan Timur terendam banjir hingga kedalaman setengah meter dan menyebabkan warga kesulitan beraktivitas.'"
            ]
          },
          "execution_count": 13,
          "metadata": {},
          "output_type": "execute_result"
        }
      ],
      "source": [
        "df['deskripsi'][0]"
      ]
    },
    {
      "cell_type": "markdown",
      "id": "af97f207",
      "metadata": {
        "id": "af97f207"
      },
      "source": [
        "# EXTRACTING THE FEATURES AND CREATING THE DOCUMENT-TERM-MATRIX ( DTM )"
      ]
    },
    {
      "cell_type": "code",
      "execution_count": null,
      "id": "8137a72e",
      "metadata": {
        "id": "8137a72e"
      },
      "outputs": [],
      "source": [
        "vect =TfidfVectorizer(stop_words=stop_words,max_features=1000)"
      ]
    },
    {
      "cell_type": "code",
      "execution_count": null,
      "id": "03ec411b",
      "metadata": {
        "id": "03ec411b"
      },
      "outputs": [],
      "source": [
        "vect_text=vect.fit_transform(df['deskripsi'])"
      ]
    },
    {
      "cell_type": "code",
      "execution_count": null,
      "id": "96070be1",
      "metadata": {
        "id": "96070be1",
        "outputId": "2559d3d6-2ad4-44a9-c94f-ce3570d5ec75"
      },
      "outputs": [
        {
          "name": "stdout",
          "output_type": "stream",
          "text": [
            "(27, 393)\n",
            "  (0, 54)\t0.2381987790450015\n",
            "  (0, 175)\t0.2381987790450015\n",
            "  (0, 386)\t0.16628781911729804\n",
            "  (0, 239)\t0.21165858334357096\n",
            "  (0, 86)\t0.132851126901508\n",
            "  (0, 243)\t0.2381987790450015\n",
            "  (0, 328)\t0.2381987790450015\n",
            "  (0, 166)\t0.2381987790450015\n",
            "  (0, 126)\t0.21165858334357096\n",
            "  (0, 40)\t0.21165858334357096\n",
            "  (0, 350)\t0.2381987790450015\n",
            "  (0, 154)\t0.2381987790450015\n",
            "  (0, 369)\t0.476397558090003\n",
            "  (0, 186)\t0.2381987790450015\n",
            "  (0, 310)\t0.2381987790450015\n",
            "  (0, 94)\t0.07833208030007383\n",
            "  (0, 305)\t0.1782218911277809\n",
            "  (0, 301)\t0.21165858334357096\n",
            "  (1, 36)\t0.19817363898526325\n",
            "  (1, 379)\t0.24480218234663798\n",
            "  (1, 163)\t0.24480218234663798\n",
            "  (1, 266)\t0.24480218234663798\n",
            "  (1, 64)\t0.24480218234663798\n",
            "  (1, 333)\t0.1831626008535631\n",
            "  (1, 58)\t0.24480218234663798\n",
            "  :\t:\n",
            "  (25, 239)\t0.187305575686449\n",
            "  (25, 126)\t0.187305575686449\n",
            "  (25, 94)\t0.06931934988672944\n",
            "  (25, 305)\t0.1577160415149807\n",
            "  (26, 375)\t0.23528139867347048\n",
            "  (26, 47)\t0.23528139867347048\n",
            "  (26, 216)\t0.23528139867347048\n",
            "  (26, 155)\t0.23528139867347048\n",
            "  (26, 46)\t0.23528139867347048\n",
            "  (26, 381)\t0.23528139867347048\n",
            "  (26, 44)\t0.23528139867347048\n",
            "  (26, 320)\t0.23528139867347048\n",
            "  (26, 365)\t0.23528139867347048\n",
            "  (26, 342)\t0.23528139867347048\n",
            "  (26, 5)\t0.23528139867347048\n",
            "  (26, 67)\t0.23528139867347048\n",
            "  (26, 153)\t0.23528139867347048\n",
            "  (26, 24)\t0.2090662585676495\n",
            "  (26, 346)\t0.2090662585676495\n",
            "  (26, 288)\t0.2090662585676495\n",
            "  (26, 325)\t0.19046632065820912\n",
            "  (26, 164)\t0.2090662585676495\n",
            "  (26, 152)\t0.19046632065820912\n",
            "  (26, 386)\t0.1642511805523881\n",
            "  (26, 94)\t0.0773726947211685\n"
          ]
        }
      ],
      "source": [
        "print(vect_text.shape)\n",
        "print(vect_text)"
      ]
    },
    {
      "cell_type": "code",
      "execution_count": null,
      "id": "a3db2176",
      "metadata": {
        "id": "a3db2176"
      },
      "outputs": [],
      "source": [
        "idf=vect.idf_"
      ]
    },
    {
      "cell_type": "code",
      "execution_count": null,
      "id": "931de040",
      "metadata": {
        "id": "931de040",
        "outputId": "4ee0935e-afc5-4b9b-f7d8-03b544435280"
      },
      "outputs": [
        {
          "name": "stdout",
          "output_type": "stream",
          "text": [
            "di zainul\n",
            "3.6390573296152584\n",
            "3.6390573296152584\n"
          ]
        }
      ],
      "source": [
        "dd=dict(zip(vect.get_feature_names(), idf))\n",
        "l=sorted(dd, key=(dd).get)\n",
        "# print(l)\n",
        "print(l[0],l[-1])\n",
        "print(dd['setelah'])\n",
        "print(dd['acara'])  # police is most common and forecast is least common among the news headlines."
      ]
    },
    {
      "cell_type": "markdown",
      "id": "538620dc",
      "metadata": {
        "id": "538620dc"
      },
      "source": [
        "# TOPIC MODELLING Latent Semantic Analysis (LSA)"
      ]
    },
    {
      "cell_type": "code",
      "execution_count": null,
      "id": "ba488531",
      "metadata": {
        "id": "ba488531"
      },
      "outputs": [],
      "source": [
        "from sklearn.decomposition import TruncatedSVD\n",
        "lsa_model = TruncatedSVD(n_components=10, algorithm='randomized', n_iter=10, random_state=42)\n",
        "\n",
        "lsa_top=lsa_model.fit_transform(vect_text)"
      ]
    },
    {
      "cell_type": "code",
      "execution_count": null,
      "id": "fabdf793",
      "metadata": {
        "id": "fabdf793",
        "outputId": "d5e8a5c5-896e-4815-8b4f-2511f5447fc3"
      },
      "outputs": [
        {
          "name": "stdout",
          "output_type": "stream",
          "text": [
            "[[ 0.17827668  0.16444362  0.03513002  0.20425876 -0.25355449 -0.1119941\n",
            "   0.49362253  0.12285648 -0.02200517  0.11271836]\n",
            " [ 0.55210584 -0.34590515 -0.24673958 -0.02254697 -0.17004537 -0.06049983\n",
            "   0.04914273 -0.0654532   0.13706473 -0.04697636]\n",
            " [ 0.17477307  0.1813299  -0.04917827 -0.14869329  0.06412035  0.3004274\n",
            "   0.19881324  0.18911249  0.43325654 -0.07036787]\n",
            " [ 0.12871282  0.06999455  0.14026957  0.15480653 -0.2304953   0.21874772\n",
            "  -0.46327492  0.20987009 -0.17883513  0.19315305]\n",
            " [ 0.16982813  0.31138202 -0.08405119 -0.04722013 -0.27055507 -0.1046518\n",
            "  -0.38181804 -0.06103384  0.21666076 -0.02684675]\n",
            " [ 0.24457475 -0.01143844  0.67467228 -0.306168    0.01380625 -0.24411452\n",
            "   0.0142407  -0.05732031  0.01580008 -0.05999001]\n",
            " [ 0.32432618 -0.00992885  0.65078222 -0.31399171 -0.06241167 -0.04102204\n",
            "  -0.02593243 -0.08429066  0.0775658  -0.08850706]\n",
            " [ 0.16181664 -0.00771368  0.16565851  0.03097217 -0.19286611  0.57882569\n",
            "  -0.03389186 -0.19681352  0.1617974  -0.0354692 ]\n",
            " [ 0.20540843  0.21058832  0.14412101  0.42588779  0.06220672 -0.21988923\n",
            "  -0.10012355 -0.03758332  0.05454464  0.00144639]\n",
            " [ 0.23333895  0.05602934  0.04213729  0.26300273  0.27956666 -0.03396173\n",
            "  -0.05037178  0.18955528  0.11480182  0.13681805]\n",
            " [ 0.2202425   0.07182535  0.07420828  0.03269034 -0.00137177  0.07524169\n",
            "   0.25322514  0.54969388  0.12086959 -0.10399009]\n",
            " [ 0.32844107  0.53352192 -0.26694237 -0.29552207  0.06573324 -0.00592668\n",
            "   0.06732948 -0.04097819 -0.27046374  0.0181269 ]\n",
            " [ 0.11964723  0.12273114  0.01898651  0.20624466 -0.14110216 -0.01695927\n",
            "   0.26760523 -0.02621239 -0.30060037 -0.36864083]\n",
            " [ 0.10550272 -0.03886694  0.11588533  0.09243015 -0.32593932  0.39960798\n",
            "  -0.15564222  0.25219278 -0.42664945 -0.05905853]\n",
            " [ 0.10164493  0.06346434  0.02956225  0.10080517  0.02060234 -0.03310067\n",
            "  -0.24727447  0.09976816  0.13721704  0.45126872]\n",
            " [ 0.55203801 -0.35764712 -0.24918    -0.02615307 -0.00638196 -0.1095005\n",
            "   0.0119244  -0.00928872  0.05830104  0.02747928]\n",
            " [ 0.13596801  0.09464339  0.09707673  0.06107708  0.19338532  0.42461341\n",
            "   0.18541222 -0.44373652 -0.04908323  0.01117062]\n",
            " [ 0.30980961  0.57492368 -0.28233048 -0.37844244 -0.05085948 -0.0440744\n",
            "  -0.09628248 -0.01174579 -0.08043775 -0.04044531]\n",
            " [ 0.32451238  0.04403331 -0.01475076  0.03994711  0.35554576  0.21894096\n",
            "  -0.00105484  0.10961579  0.23329005  0.16660981]\n",
            " [ 0.24981184  0.00316807  0.00152141  0.25785536  0.43307637  0.10635084\n",
            "  -0.12955828 -0.27080272 -0.13351139 -0.15612419]\n",
            " [ 0.48110112 -0.22506339 -0.0623      0.01022236  0.24944228 -0.06081227\n",
            "  -0.13661644  0.06617106 -0.29004615 -0.08336515]\n",
            " [ 0.2678596  -0.21644279  0.0661184  -0.0978105  -0.14530602 -0.17748417\n",
            "   0.08342438 -0.0310417  -0.15719362  0.29804303]\n",
            " [ 0.28911958 -0.36416513 -0.23444531 -0.0311782  -0.31412659  0.05320774\n",
            "  -0.01160223 -0.14409019  0.07714731 -0.08936649]\n",
            " [ 0.16636629  0.0338827   0.12354599  0.18866718  0.2310699  -0.07397074\n",
            "  -0.03524928  0.26949048 -0.13250569 -0.24802419]\n",
            " [ 0.09114943  0.0755983   0.06803141  0.00720824  0.06182433 -0.0008919\n",
            "   0.2631364  -0.16944058 -0.26119575  0.57415364]\n",
            " [ 0.1295055   0.18551136  0.08768446  0.38782204 -0.29900762  0.00753861\n",
            "   0.20615651 -0.07455274  0.08568437  0.1223208 ]\n",
            " [ 0.14192336  0.26272578  0.03141199  0.36768134 -0.17442279 -0.25998004\n",
            "  -0.12939495 -0.28470781  0.18287098 -0.16822207]]\n",
            "(27, 10)\n"
          ]
        }
      ],
      "source": [
        "print(lsa_top)\n",
        "print(lsa_top.shape)  # (no_of_doc*no_of_topics)"
      ]
    },
    {
      "cell_type": "code",
      "execution_count": null,
      "id": "e1fd371e",
      "metadata": {
        "id": "e1fd371e",
        "outputId": "e5714a3d-8f5e-43df-d989-15360f98cc56"
      },
      "outputs": [
        {
          "name": "stdout",
          "output_type": "stream",
          "text": [
            "Document 0 :\n",
            "Topic  0  :  17.82766832374236\n",
            "Topic  1  :  16.444362488274937\n",
            "Topic  2  :  3.513002109980618\n",
            "Topic  3  :  20.425875981865758\n",
            "Topic  4  :  -25.35544853362419\n",
            "Topic  5  :  -11.199410223991109\n",
            "Topic  6  :  49.362252987809796\n",
            "Topic  7  :  12.285647687952347\n",
            "Topic  8  :  -2.200516740432844\n",
            "Topic  9  :  11.271835630006418\n"
          ]
        }
      ],
      "source": [
        "l=lsa_top[0]\n",
        "print(\"Document 0 :\")\n",
        "for i,topic in enumerate(l):\n",
        "  print(\"Topic \",i,\" : \",topic*100)"
      ]
    },
    {
      "cell_type": "code",
      "execution_count": null,
      "id": "1602de20",
      "metadata": {
        "id": "1602de20",
        "outputId": "63c7a8b3-4915-4407-8c40-d935d17f3fd3"
      },
      "outputs": [
        {
          "name": "stdout",
          "output_type": "stream",
          "text": [
            "(10, 393)\n",
            "[[ 0.04816074  0.04716419  0.07326114 ...  0.07145266  0.20946864\n",
            "   0.02516141]\n",
            " [ 0.08609482  0.11664807  0.17210955 ... -0.06195812  0.08889178\n",
            "  -0.02721938]\n",
            " [-0.02351955 -0.0529399  -0.08347315 ... -0.04621108 -0.04344811\n",
            "   0.00890173]\n",
            " ...\n",
            " [-0.09433628 -0.01180147 -0.0175854  ... -0.00190588  0.06455839\n",
            "  -0.0049408 ]\n",
            " [-0.06167605  0.01901508 -0.02933119 ...  0.01366432  0.00401618\n",
            "  -0.02693797]\n",
            " [ 0.00679673 -0.01261042 -0.00832885 ...  0.00720567  0.10728007\n",
            "   0.05228102]]\n"
          ]
        }
      ],
      "source": [
        "print(lsa_model.components_.shape) # (no_of_topics*no_of_words)\n",
        "print(lsa_model.components_)"
      ]
    },
    {
      "cell_type": "code",
      "execution_count": null,
      "id": "f1123742",
      "metadata": {
        "id": "f1123742",
        "outputId": "7ba21bda-913e-49d8-bc2b-2151d4cc3ef7"
      },
      "outputs": [
        {
          "name": "stdout",
          "output_type": "stream",
          "text": [
            "Topic 0: \n",
            "di mandalika sirkuit dan yang hujan motogp indonesia penonton pawang \n",
            "\n",
            "Topic 1: \n",
            "papua kabupaten 2022 warga baya bersenjata biru distrik kelompok membakar \n",
            "\n",
            "Topic 2: \n",
            "indonesia diri federation international itf taekwon terus dari dengan bela \n",
            "\n",
            "Topic 3: \n",
            "seorang warga pasar perempuan diduga anak tega kota salah tengah \n",
            "\n",
            "Topic 4: \n",
            "hujan tengah yang kini wanita terlihat pasar tidak pawang migor \n",
            "\n",
            "Topic 5: \n",
            "masyarakat terus dengan tersebut bahaya akbp berupaya daerah ferli hidayat \n",
            "\n",
            "Topic 6: \n",
            "timur rumah banjir hingga menyebabkan warga ratusan beraktivitas kalimantan kedalaman \n",
            "\n",
            "Topic 7: \n",
            "hal wilayah banjir itu akibat bersih bolango bone gorontalo ini \n",
            "\n",
            "Topic 8: \n",
            "adat kini di wilayah dan masyarakat bakal barat beberapa cikal \n",
            "\n",
            "Topic 9: \n",
            "halal padjadjaran ampel sunan surabaya ketua rumah center diselesaikan masih \n",
            "\n"
          ]
        }
      ],
      "source": [
        "# most important words for each topic\n",
        "vocab = vect.get_feature_names()\n",
        "\n",
        "for i, comp in enumerate(lsa_model.components_):\n",
        "    vocab_comp = zip(vocab, comp)\n",
        "    sorted_words = sorted(vocab_comp, key= lambda x:x[1], reverse=True)[:10]\n",
        "    print(\"Topic \"+str(i)+\": \")\n",
        "    for t in sorted_words:\n",
        "        print(t[0],end=\" \")\n",
        "    print(\"\\n\")"
      ]
    },
    {
      "cell_type": "code",
      "execution_count": null,
      "id": "e9578dbe",
      "metadata": {
        "id": "e9578dbe"
      },
      "outputs": [],
      "source": [
        "from sklearn.decomposition import LatentDirichletAllocation\n",
        "lda_model=LatentDirichletAllocation(n_components=10,learning_method='online',random_state=42,max_iter=1) \n",
        "# n_components is the number of topics"
      ]
    },
    {
      "cell_type": "code",
      "execution_count": null,
      "id": "95e3e8ed",
      "metadata": {
        "id": "95e3e8ed"
      },
      "outputs": [],
      "source": [
        "lda_top=lda_model.fit_transform(vect_text)"
      ]
    },
    {
      "cell_type": "code",
      "execution_count": null,
      "id": "41201aef",
      "metadata": {
        "id": "41201aef",
        "outputId": "3f352532-3083-4ff0-ecf4-ab7a52ab7d74"
      },
      "outputs": [
        {
          "name": "stdout",
          "output_type": "stream",
          "text": [
            "(27, 10)\n",
            "[[0.01991645 0.01991626 0.01991639 0.82075496 0.01991609 0.01991579\n",
            "  0.01991624 0.01991609 0.01991578 0.01991594]\n",
            " [0.01898274 0.82914957 0.01898297 0.01898288 0.01898321 0.01898637\n",
            "  0.01898309 0.01898307 0.01898286 0.01898324]\n",
            " [0.01824013 0.01824005 0.01824053 0.01824003 0.01824045 0.01823978\n",
            "  0.01824029 0.0182399  0.83583887 0.01823998]\n",
            " [0.01889548 0.01889471 0.01889475 0.01889471 0.01889507 0.01889503\n",
            "  0.82994598 0.01889487 0.01889488 0.01889453]\n",
            " [0.84270471 0.01747819 0.01747729 0.01747716 0.01747733 0.01747711\n",
            "  0.01747705 0.01747696 0.01747726 0.01747693]\n",
            " [0.82997781 0.01889169 0.01889162 0.01889138 0.01889133 0.01889125\n",
            "  0.018891   0.01889113 0.01889147 0.01889131]\n",
            " [0.0198695  0.01986963 0.0198697  0.01986993 0.01987026 0.01986955\n",
            "  0.01986952 0.0198694  0.01986921 0.8211733 ]\n",
            " [0.01934933 0.01934918 0.01934898 0.01934922 0.01934919 0.82585827\n",
            "  0.01934882 0.01934929 0.019349   0.01934871]\n",
            " [0.01942574 0.01942548 0.82516846 0.01942556 0.01942615 0.01942574\n",
            "  0.01942578 0.01942564 0.01942593 0.01942552]\n",
            " [0.01927324 0.01927351 0.01927482 0.01927317 0.01927365 0.01927312\n",
            "  0.01927356 0.01927428 0.01927351 0.82653714]\n",
            " [0.82472657 0.01947485 0.019476   0.01947458 0.01947476 0.01947519\n",
            "  0.01947457 0.01947423 0.01947467 0.01947459]\n",
            " [0.01662418 0.01662378 0.01662377 0.01662369 0.85038624 0.01662401\n",
            "  0.01662346 0.01662357 0.01662387 0.01662343]\n",
            " [0.01704581 0.01704574 0.01704572 0.8465877  0.01704557 0.01704582\n",
            "  0.01704584 0.01704625 0.01704574 0.0170458 ]\n",
            " [0.01871515 0.83156256 0.018715   0.01871499 0.01871554 0.01871488\n",
            "  0.01871518 0.01871624 0.0187152  0.01871527]\n",
            " [0.01859307 0.01859392 0.01859331 0.01859323 0.01859357 0.01859336\n",
            "  0.83266018 0.01859308 0.018593   0.01859328]\n",
            " [0.02000933 0.0200095  0.02000877 0.02000893 0.02000977 0.81991664\n",
            "  0.02000919 0.02000899 0.02000914 0.02000974]\n",
            " [0.02028104 0.02028118 0.02028059 0.81747156 0.02028079 0.02028201\n",
            "  0.02028063 0.02028062 0.02028041 0.02028116]\n",
            " [0.01722168 0.84500252 0.01722166 0.01722329 0.01722247 0.01722212\n",
            "  0.01722148 0.0172214  0.01722179 0.01722159]\n",
            " [0.01864119 0.01864127 0.01864151 0.01864103 0.01864334 0.01864124\n",
            "  0.0186411  0.01864112 0.01864105 0.83222715]\n",
            " [0.01929079 0.01929079 0.01929091 0.0192909  0.01929072 0.01929082\n",
            "  0.019291   0.01929127 0.01929054 0.82638225]\n",
            " [0.01810432 0.01810432 0.01810373 0.01810389 0.01810463 0.01810398\n",
            "  0.01810348 0.01810384 0.01810399 0.83706383]\n",
            " [0.01762942 0.84133382 0.01762953 0.01762969 0.01762961 0.01762945\n",
            "  0.01762935 0.01762933 0.01762949 0.01763031]\n",
            " [0.02064414 0.02064395 0.02064412 0.02064357 0.0206441  0.81420396\n",
            "  0.02064414 0.02064389 0.02064432 0.02064383]\n",
            " [0.01916505 0.0191652  0.01916471 0.01916491 0.01916535 0.0191692\n",
            "  0.01916517 0.01916508 0.82751031 0.01916504]\n",
            " [0.0204412  0.0204413  0.02044102 0.02044097 0.020441   0.02044138\n",
            "  0.0204415  0.02044143 0.02044141 0.81602879]\n",
            " [0.01655756 0.01655775 0.85098139 0.01655815 0.01655741 0.01655756\n",
            "  0.01655758 0.0165575  0.01655764 0.01655746]\n",
            " [0.01812954 0.01812927 0.01812942 0.83683551 0.01812954 0.01812908\n",
            "  0.01812967 0.01812936 0.01812942 0.01812921]]\n"
          ]
        }
      ],
      "source": [
        "print(lda_top.shape)  # (no_of_doc,no_of_topics)\n",
        "print(lda_top)"
      ]
    },
    {
      "cell_type": "code",
      "execution_count": null,
      "id": "33867c4c",
      "metadata": {
        "id": "33867c4c",
        "outputId": "dd128772-e0f3-4691-d75c-0f7e896a026b"
      },
      "outputs": [
        {
          "name": "stdout",
          "output_type": "stream",
          "text": [
            "1.0000000000000002\n"
          ]
        }
      ],
      "source": [
        "sum=0\n",
        "for i in lda_top[0]:\n",
        "  sum=sum+i\n",
        "print(sum)"
      ]
    },
    {
      "cell_type": "code",
      "execution_count": null,
      "id": "968323ce",
      "metadata": {
        "id": "968323ce",
        "outputId": "1c37de81-257c-4b7c-dda8-60525e7d7ad5"
      },
      "outputs": [
        {
          "name": "stdout",
          "output_type": "stream",
          "text": [
            "Document 0: \n",
            "Topic  0 :  1.9916451307379586 %\n",
            "Topic  1 :  1.991626232042231 %\n",
            "Topic  2 :  1.9916393100208152 %\n",
            "Topic  3 :  82.07549581560774 %\n",
            "Topic  4 :  1.991609423362764 %\n",
            "Topic  5 :  1.9915786100045656 %\n",
            "Topic  6 :  1.9916244033450665 %\n",
            "Topic  7 :  1.9916092420778224 %\n",
            "Topic  8 :  1.9915776164659966 %\n",
            "Topic  9 :  1.9915942163350586 %\n"
          ]
        }
      ],
      "source": [
        "# composition of doc 0 for eg\n",
        "print(\"Document 0: \")\n",
        "for i,topic in enumerate(lda_top[0]):\n",
        "  print(\"Topic \",i,\": \",topic*100,\"%\")"
      ]
    },
    {
      "cell_type": "code",
      "execution_count": null,
      "id": "6d9630c6",
      "metadata": {
        "id": "6d9630c6",
        "outputId": "0e2540f8-b3ad-4b01-8698-7395c5525632"
      },
      "outputs": [
        {
          "name": "stdout",
          "output_type": "stream",
          "text": [
            "[[0.87031103 0.84876837 0.83835315 ... 0.93475491 0.69712398 0.72030291]\n",
            " [0.76777316 0.94598101 0.9718942  ... 0.8165008  0.83891585 0.79355052]\n",
            " [0.72293254 0.70521696 0.77618183 ... 0.83652559 0.87058736 0.88034058]\n",
            " ...\n",
            " [0.9448376  0.78093103 0.74968905 ... 0.89388721 0.77964696 0.89148505]\n",
            " [0.83186524 0.88664002 0.85168555 ... 0.78152503 0.84069983 0.91040302]\n",
            " [0.87008139 0.80023746 0.89104552 ... 0.87373621 0.91251683 0.89827736]]\n",
            "(10, 393)\n"
          ]
        }
      ],
      "source": [
        "print(lda_model.components_)\n",
        "print(lda_model.components_.shape)  # (no_of_topics*no_of_words)"
      ]
    },
    {
      "cell_type": "code",
      "execution_count": null,
      "id": "c118b7d6",
      "metadata": {
        "id": "c118b7d6",
        "outputId": "f30461b3-554e-41bc-c2f9-c0cec7c3fd69"
      },
      "outputs": [
        {
          "name": "stdout",
          "output_type": "stream",
          "text": [
            "Topic 0: \n",
            "hujan taekwon kabupaten menerjang vaksinasi biru terjadi immunity menganiaya terutama \n",
            "\n",
            "Topic 1: \n",
            "hal oiaa motogp immunity menyambut tengah al kegirangan nonton mandalika \n",
            "\n",
            "Topic 2: \n",
            "menggegerkan diduga baya kapolres anggota bolango salah dari acara hujan \n",
            "\n",
            "Topic 3: \n",
            "menyebabkan pembalap pandemi timur oleh alumni menerjang desa umur cikal \n",
            "\n",
            "Topic 4: \n",
            "bersenjata aksi kini papua menggenjot terutama tahun dilancarkan sindangkasih polres \n",
            "\n",
            "Topic 5: \n",
            "hidayat bahaya eri pembalap mandalika hingga berprikemanuasian tersendiri ribu menjadi \n",
            "\n",
            "Topic 6: \n",
            "zainul tahun pariwisata bali doa rider surabaya dan angin al \n",
            "\n",
            "Topic 7: \n",
            "bisa masih universitas deras berupaya harus dalam kapolres desa cukup \n",
            "\n",
            "Topic 8: \n",
            "bersenjata adat immunity pasang vaksinasi mendukung terjun padjadjaran muhtadun pemerintahan \n",
            "\n",
            "Topic 9: \n",
            "tengah wanita baru seminar seorang padjadjaran hujan heboh seluruh antusias \n",
            "\n"
          ]
        }
      ],
      "source": [
        "# most important words for each topic\n",
        "vocab = vect.get_feature_names()\n",
        "\n",
        "for i, comp in enumerate(lda_model.components_):\n",
        "    vocab_comp = zip(vocab, comp)\n",
        "    sorted_words = sorted(vocab_comp, key= lambda x:x[1], reverse=True)[:10]\n",
        "    print(\"Topic \"+str(i)+\": \")\n",
        "    for t in sorted_words:\n",
        "        print(t[0],end=\" \")\n",
        "    print(\"\\n\")"
      ]
    }
  ],
  "metadata": {
    "kernelspec": {
      "display_name": "Python 3 (ipykernel)",
      "language": "python",
      "name": "python3"
    },
    "language_info": {
      "codemirror_mode": {
        "name": "ipython",
        "version": 3
      },
      "file_extension": ".py",
      "mimetype": "text/x-python",
      "name": "python",
      "nbconvert_exporter": "python",
      "pygments_lexer": "ipython3",
      "version": "3.8.5"
    },
    "colab": {
      "name": "LSA.ipynb",
      "provenance": []
    }
  },
  "nbformat": 4,
  "nbformat_minor": 5
}